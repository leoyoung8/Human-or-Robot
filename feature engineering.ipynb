{
 "cells": [
  {
   "cell_type": "markdown",
   "metadata": {},
   "source": [
    "###import packages"
   ]
  },
  {
   "cell_type": "code",
   "execution_count": null,
   "metadata": {
    "collapsed": true
   },
   "outputs": [],
   "source": [
    "import pandas as pd\n",
    "import numpy as np\n",
    "import matplotlib.pyplot as plt\n",
    "from sklearn.preprocessing import StandardScaler\n",
    "from sklearn.cross_validation import StratifiedShuffleSplit, StratifiedKFold\n",
    "from sklearn.ensemble import RandomForestClassifier\n",
    "from sklearn.metrics import roc_curve, auc, roc_auc_score, confusion_matrix\n"
   ]
  },
  {
   "cell_type": "markdown",
   "metadata": {},
   "source": [
    "###import train and test data and check out the sizes of these two files"
   ]
  },
  {
   "cell_type": "code",
   "execution_count": 2,
   "metadata": {
    "collapsed": false
   },
   "outputs": [
    {
     "data": {
      "text/plain": [
       "(2013, 5)"
      ]
     },
     "execution_count": 2,
     "metadata": {},
     "output_type": "execute_result"
    }
   ],
   "source": [
    "train=pd.read_csv('train.csv')\n",
    "train.shape"
   ]
  },
  {
   "cell_type": "code",
   "execution_count": 3,
   "metadata": {
    "collapsed": false
   },
   "outputs": [
    {
     "data": {
      "text/plain": [
       "(4700, 3)"
      ]
     },
     "execution_count": 3,
     "metadata": {},
     "output_type": "execute_result"
    }
   ],
   "source": [
    "test=pd.read_csv('test.csv')\n",
    "test.shape"
   ]
  },
  {
   "cell_type": "markdown",
   "metadata": {},
   "source": [
    "###import the bid file (which is big), and sort it by auction and time, and calculate the time intervel of each bid from the last bid. If it is the first bid in an auction, use the averaged time interval of all bids: 52858888310.29  save the time interval as a new column \"speed\""
   ]
  },
  {
   "cell_type": "code",
   "execution_count": null,
   "metadata": {
    "collapsed": true
   },
   "outputs": [],
   "source": [
    "bids=pd.read_csv('bids.csv')\n",
    "sorted=bids.sort(['auction','time'])\n",
    "\n",
    "sorted.to_csv('sorted.csv')\n",
    "\n",
    "f=open('sorted.csv','r')\n",
    "h=open('sorted_speed.csv','w')\n",
    "header=f.readline().strip()\n",
    "h.write(header+\",speed\"+\"\\n\")\n",
    "num_lines =sum(1 for line in open('sorted.csv'))\n",
    "pre_auction='00270'\n",
    "pre_time=9699049894736842\n",
    "for i in range(0,num_lines-1):\n",
    "    \n",
    "    data=f.readline().strip()\n",
    "    auction=data.split(\",\")[3]\n",
    "    time=float(data.split(\",\")[6])\n",
    "    if auction==pre_auction:\n",
    "        speed=time-pre_time\n",
    "        pre_time=time\n",
    "    else:\n",
    "        speed=0\n",
    "        pre_auction=auction\n",
    "        pre_time=time\n",
    "    if speed==0:\n",
    "        speed=52858888310.29\n",
    "    h.write(data + \",\" + str(speed) + \"\\n\")\n",
    "h.close()"
   ]
  },
  {
   "cell_type": "code",
   "execution_count": 2,
   "metadata": {
    "collapsed": false
   },
   "outputs": [
    {
     "data": {
      "text/plain": [
       "(7656334, 11)"
      ]
     },
     "execution_count": 2,
     "metadata": {},
     "output_type": "execute_result"
    }
   ],
   "source": [
    "sorted_speed=pd.read_csv('sorted_speed2.csv')\n",
    "sorted_speed.shape"
   ]
  },
  {
   "cell_type": "code",
   "execution_count": 4,
   "metadata": {
    "collapsed": false
   },
   "outputs": [
    {
     "data": {
      "text/html": [
       "<div style=\"max-height:1000px;max-width:1500px;overflow:auto;\">\n",
       "<table border=\"1\" class=\"dataframe\">\n",
       "  <thead>\n",
       "    <tr style=\"text-align: right;\">\n",
       "      <th></th>\n",
       "      <th>Unnamed: 0</th>\n",
       "      <th>bid_id</th>\n",
       "      <th>bidder_id</th>\n",
       "      <th>auction</th>\n",
       "      <th>merchandise</th>\n",
       "      <th>device</th>\n",
       "      <th>time</th>\n",
       "      <th>country</th>\n",
       "      <th>ip</th>\n",
       "      <th>url</th>\n",
       "      <th>speed</th>\n",
       "    </tr>\n",
       "  </thead>\n",
       "  <tbody>\n",
       "    <tr>\n",
       "      <th>0</th>\n",
       "      <td> 5826422</td>\n",
       "      <td> 5826422</td>\n",
       "      <td> 92af1e40713e077ef87f5352fb56772fjnzm7</td>\n",
       "      <td> 00270</td>\n",
       "      <td>         mobile</td>\n",
       "      <td>  phone563</td>\n",
       "      <td> 9699049894736842</td>\n",
       "      <td> us</td>\n",
       "      <td>  78.188.245.105</td>\n",
       "      <td> vuaaeraf3dqz299</td>\n",
       "      <td> 5.285889e+10</td>\n",
       "    </tr>\n",
       "    <tr>\n",
       "      <th>1</th>\n",
       "      <td> 5834284</td>\n",
       "      <td> 5834284</td>\n",
       "      <td> a939f51234ad2c44eb9ccc84e754f41foiv7g</td>\n",
       "      <td> 00270</td>\n",
       "      <td>         mobile</td>\n",
       "      <td>   phone63</td>\n",
       "      <td> 9699098210526315</td>\n",
       "      <td> us</td>\n",
       "      <td>  12.142.135.122</td>\n",
       "      <td> fbpq1mgtpgnkqnk</td>\n",
       "      <td> 4.831579e+10</td>\n",
       "    </tr>\n",
       "    <tr>\n",
       "      <th>2</th>\n",
       "      <td> 5850448</td>\n",
       "      <td> 5850448</td>\n",
       "      <td> 92af1e40713e077ef87f5352fb56772fjnzm7</td>\n",
       "      <td> 00270</td>\n",
       "      <td>         mobile</td>\n",
       "      <td>  phone735</td>\n",
       "      <td> 9699195789473684</td>\n",
       "      <td> us</td>\n",
       "      <td>    2.86.254.154</td>\n",
       "      <td> nn2g552xadgkfch</td>\n",
       "      <td> 9.757895e+10</td>\n",
       "    </tr>\n",
       "    <tr>\n",
       "      <th>3</th>\n",
       "      <td> 5884054</td>\n",
       "      <td> 5884054</td>\n",
       "      <td> 9655ccc7c0c193f1549475f02c54dce45kjw7</td>\n",
       "      <td> 00270</td>\n",
       "      <td> sporting goods</td>\n",
       "      <td>  phone573</td>\n",
       "      <td> 9699392473684210</td>\n",
       "      <td> us</td>\n",
       "      <td> 149.152.163.145</td>\n",
       "      <td> vasstdc27m7nks3</td>\n",
       "      <td> 1.966842e+11</td>\n",
       "    </tr>\n",
       "    <tr>\n",
       "      <th>4</th>\n",
       "      <td> 5898318</td>\n",
       "      <td> 5898318</td>\n",
       "      <td> 9655ccc7c0c193f1549475f02c54dce45kjw7</td>\n",
       "      <td> 00270</td>\n",
       "      <td> sporting goods</td>\n",
       "      <td> phone2294</td>\n",
       "      <td> 9699474473684210</td>\n",
       "      <td> us</td>\n",
       "      <td>  219.254.45.139</td>\n",
       "      <td> vasstdc27m7nks3</td>\n",
       "      <td> 8.200000e+10</td>\n",
       "    </tr>\n",
       "  </tbody>\n",
       "</table>\n",
       "</div>"
      ],
      "text/plain": [
       "   Unnamed: 0   bid_id                              bidder_id auction  \\\n",
       "0     5826422  5826422  92af1e40713e077ef87f5352fb56772fjnzm7   00270   \n",
       "1     5834284  5834284  a939f51234ad2c44eb9ccc84e754f41foiv7g   00270   \n",
       "2     5850448  5850448  92af1e40713e077ef87f5352fb56772fjnzm7   00270   \n",
       "3     5884054  5884054  9655ccc7c0c193f1549475f02c54dce45kjw7   00270   \n",
       "4     5898318  5898318  9655ccc7c0c193f1549475f02c54dce45kjw7   00270   \n",
       "\n",
       "      merchandise     device              time country               ip  \\\n",
       "0          mobile   phone563  9699049894736842      us   78.188.245.105   \n",
       "1          mobile    phone63  9699098210526315      us   12.142.135.122   \n",
       "2          mobile   phone735  9699195789473684      us     2.86.254.154   \n",
       "3  sporting goods   phone573  9699392473684210      us  149.152.163.145   \n",
       "4  sporting goods  phone2294  9699474473684210      us   219.254.45.139   \n",
       "\n",
       "               url         speed  \n",
       "0  vuaaeraf3dqz299  5.285889e+10  \n",
       "1  fbpq1mgtpgnkqnk  4.831579e+10  \n",
       "2  nn2g552xadgkfch  9.757895e+10  \n",
       "3  vasstdc27m7nks3  1.966842e+11  \n",
       "4  vasstdc27m7nks3  8.200000e+10  "
      ]
     },
     "execution_count": 4,
     "metadata": {},
     "output_type": "execute_result"
    }
   ],
   "source": [
    "sorted_speed.head()"
   ]
  },
  {
   "cell_type": "markdown",
   "metadata": {},
   "source": [
    "## here I'm trying to find within each auction, the consecutive bidding from the same bidder. "
   ]
  },
  {
   "cell_type": "code",
   "execution_count": 25,
   "metadata": {
    "collapsed": false
   },
   "outputs": [],
   "source": [
    "a=sorted_speed.loc[sorted_speed.shift(1)['bidder_id'] != sorted_speed['bidder_id']]"
   ]
  },
  {
   "cell_type": "code",
   "execution_count": 26,
   "metadata": {
    "collapsed": false
   },
   "outputs": [
    {
     "name": "stderr",
     "output_type": "stream",
     "text": [
      "C:\\Anaconda\\lib\\site-packages\\IPython\\kernel\\__main__.py:1: SettingWithCopyWarning: \n",
      "A value is trying to be set on a copy of a slice from a DataFrame.\n",
      "Try using .loc[row_indexer,col_indexer] = value instead\n",
      "\n",
      "See the the caveats in the documentation: http://pandas.pydata.org/pandas-docs/stable/indexing.html#indexing-view-versus-copy\n",
      "  if __name__ == '__main__':\n"
     ]
    }
   ],
   "source": [
    "a['ind']=a.index"
   ]
  },
  {
   "cell_type": "code",
   "execution_count": 27,
   "metadata": {
    "collapsed": false
   },
   "outputs": [
    {
     "name": "stderr",
     "output_type": "stream",
     "text": [
      "C:\\Anaconda\\lib\\site-packages\\IPython\\kernel\\__main__.py:1: SettingWithCopyWarning: \n",
      "A value is trying to be set on a copy of a slice from a DataFrame.\n",
      "Try using .loc[row_indexer,col_indexer] = value instead\n",
      "\n",
      "See the the caveats in the documentation: http://pandas.pydata.org/pandas-docs/stable/indexing.html#indexing-view-versus-copy\n",
      "  if __name__ == '__main__':\n"
     ]
    }
   ],
   "source": [
    "a['consec_bid']=-a['ind']+a.shift(-1)['ind']"
   ]
  },
  {
   "cell_type": "code",
   "execution_count": 28,
   "metadata": {
    "collapsed": false
   },
   "outputs": [
    {
     "data": {
      "text/html": [
       "<div style=\"max-height:1000px;max-width:1500px;overflow:auto;\">\n",
       "<table border=\"1\" class=\"dataframe\">\n",
       "  <thead>\n",
       "    <tr style=\"text-align: right;\">\n",
       "      <th></th>\n",
       "      <th>Unnamed: 0</th>\n",
       "      <th>bid_id</th>\n",
       "      <th>bidder_id</th>\n",
       "      <th>auction</th>\n",
       "      <th>merchandise</th>\n",
       "      <th>device</th>\n",
       "      <th>time</th>\n",
       "      <th>country</th>\n",
       "      <th>ip</th>\n",
       "      <th>url</th>\n",
       "      <th>speed</th>\n",
       "      <th>last_time</th>\n",
       "      <th>start_time</th>\n",
       "      <th>stop_time</th>\n",
       "      <th>bid_time_percent</th>\n",
       "      <th>ind</th>\n",
       "      <th>consec_bid</th>\n",
       "    </tr>\n",
       "  </thead>\n",
       "  <tbody>\n",
       "    <tr>\n",
       "      <th>0</th>\n",
       "      <td> 5826422</td>\n",
       "      <td> 5826422</td>\n",
       "      <td> 92af1e40713e077ef87f5352fb56772fjnzm7</td>\n",
       "      <td> 00270</td>\n",
       "      <td>         mobile</td>\n",
       "      <td> phone563</td>\n",
       "      <td> 9.699050e+15</td>\n",
       "      <td> us</td>\n",
       "      <td>  78.188.245.105</td>\n",
       "      <td> vuaaeraf3dqz299</td>\n",
       "      <td> 5.285889e+10</td>\n",
       "      <td> 1.016300e+13</td>\n",
       "      <td> 9.699050e+15</td>\n",
       "      <td> 9.709210e+15</td>\n",
       "      <td>-0.000010</td>\n",
       "      <td> 0</td>\n",
       "      <td> 1</td>\n",
       "    </tr>\n",
       "    <tr>\n",
       "      <th>1</th>\n",
       "      <td> 5834284</td>\n",
       "      <td> 5834284</td>\n",
       "      <td> a939f51234ad2c44eb9ccc84e754f41foiv7g</td>\n",
       "      <td> 00270</td>\n",
       "      <td>         mobile</td>\n",
       "      <td>  phone63</td>\n",
       "      <td> 9.699098e+15</td>\n",
       "      <td> us</td>\n",
       "      <td>  12.142.135.122</td>\n",
       "      <td> fbpq1mgtpgnkqnk</td>\n",
       "      <td> 4.831579e+10</td>\n",
       "      <td> 1.016300e+13</td>\n",
       "      <td> 9.699050e+15</td>\n",
       "      <td> 9.709210e+15</td>\n",
       "      <td> 0.004744</td>\n",
       "      <td> 1</td>\n",
       "      <td> 1</td>\n",
       "    </tr>\n",
       "    <tr>\n",
       "      <th>2</th>\n",
       "      <td> 5850448</td>\n",
       "      <td> 5850448</td>\n",
       "      <td> 92af1e40713e077ef87f5352fb56772fjnzm7</td>\n",
       "      <td> 00270</td>\n",
       "      <td>         mobile</td>\n",
       "      <td> phone735</td>\n",
       "      <td> 9.699196e+15</td>\n",
       "      <td> us</td>\n",
       "      <td>    2.86.254.154</td>\n",
       "      <td> nn2g552xadgkfch</td>\n",
       "      <td> 9.757895e+10</td>\n",
       "      <td> 1.016300e+13</td>\n",
       "      <td> 9.699050e+15</td>\n",
       "      <td> 9.709210e+15</td>\n",
       "      <td> 0.014345</td>\n",
       "      <td> 2</td>\n",
       "      <td> 1</td>\n",
       "    </tr>\n",
       "    <tr>\n",
       "      <th>3</th>\n",
       "      <td> 5884054</td>\n",
       "      <td> 5884054</td>\n",
       "      <td> 9655ccc7c0c193f1549475f02c54dce45kjw7</td>\n",
       "      <td> 00270</td>\n",
       "      <td> sporting goods</td>\n",
       "      <td> phone573</td>\n",
       "      <td> 9.699392e+15</td>\n",
       "      <td> us</td>\n",
       "      <td> 149.152.163.145</td>\n",
       "      <td> vasstdc27m7nks3</td>\n",
       "      <td> 1.966842e+11</td>\n",
       "      <td> 1.016300e+13</td>\n",
       "      <td> 9.699050e+15</td>\n",
       "      <td> 9.709210e+15</td>\n",
       "      <td> 0.033698</td>\n",
       "      <td> 3</td>\n",
       "      <td> 3</td>\n",
       "    </tr>\n",
       "    <tr>\n",
       "      <th>6</th>\n",
       "      <td> 5911709</td>\n",
       "      <td> 5911709</td>\n",
       "      <td> 84c4b58a1491da3a30710bcdf61f87054xfq6</td>\n",
       "      <td> 00270</td>\n",
       "      <td>         mobile</td>\n",
       "      <td>   phone2</td>\n",
       "      <td> 9.699551e+15</td>\n",
       "      <td> us</td>\n",
       "      <td> 247.124.231.180</td>\n",
       "      <td> qi80ms9ikpku6g3</td>\n",
       "      <td> 7.736842e+09</td>\n",
       "      <td> 1.016300e+13</td>\n",
       "      <td> 9.699050e+15</td>\n",
       "      <td> 9.709210e+15</td>\n",
       "      <td> 0.049265</td>\n",
       "      <td> 6</td>\n",
       "      <td> 1</td>\n",
       "    </tr>\n",
       "  </tbody>\n",
       "</table>\n",
       "</div>"
      ],
      "text/plain": [
       "   Unnamed: 0   bid_id                              bidder_id auction  \\\n",
       "0     5826422  5826422  92af1e40713e077ef87f5352fb56772fjnzm7   00270   \n",
       "1     5834284  5834284  a939f51234ad2c44eb9ccc84e754f41foiv7g   00270   \n",
       "2     5850448  5850448  92af1e40713e077ef87f5352fb56772fjnzm7   00270   \n",
       "3     5884054  5884054  9655ccc7c0c193f1549475f02c54dce45kjw7   00270   \n",
       "6     5911709  5911709  84c4b58a1491da3a30710bcdf61f87054xfq6   00270   \n",
       "\n",
       "      merchandise    device          time country               ip  \\\n",
       "0          mobile  phone563  9.699050e+15      us   78.188.245.105   \n",
       "1          mobile   phone63  9.699098e+15      us   12.142.135.122   \n",
       "2          mobile  phone735  9.699196e+15      us     2.86.254.154   \n",
       "3  sporting goods  phone573  9.699392e+15      us  149.152.163.145   \n",
       "6          mobile    phone2  9.699551e+15      us  247.124.231.180   \n",
       "\n",
       "               url         speed     last_time    start_time     stop_time  \\\n",
       "0  vuaaeraf3dqz299  5.285889e+10  1.016300e+13  9.699050e+15  9.709210e+15   \n",
       "1  fbpq1mgtpgnkqnk  4.831579e+10  1.016300e+13  9.699050e+15  9.709210e+15   \n",
       "2  nn2g552xadgkfch  9.757895e+10  1.016300e+13  9.699050e+15  9.709210e+15   \n",
       "3  vasstdc27m7nks3  1.966842e+11  1.016300e+13  9.699050e+15  9.709210e+15   \n",
       "6  qi80ms9ikpku6g3  7.736842e+09  1.016300e+13  9.699050e+15  9.709210e+15   \n",
       "\n",
       "   bid_time_percent  ind  consec_bid  \n",
       "0         -0.000010    0           1  \n",
       "1          0.004744    1           1  \n",
       "2          0.014345    2           1  \n",
       "3          0.033698    3           3  \n",
       "6          0.049265    6           1  "
      ]
     },
     "execution_count": 28,
     "metadata": {},
     "output_type": "execute_result"
    }
   ],
   "source": [
    "a.head()"
   ]
  },
  {
   "cell_type": "markdown",
   "metadata": {},
   "source": [
    "## here I find the maximun consecutive bidding within one auction of each biddre"
   ]
  },
  {
   "cell_type": "code",
   "execution_count": 29,
   "metadata": {
    "collapsed": false
   },
   "outputs": [
    {
     "data": {
      "text/plain": [
       "bidder_id\n",
       "001068c415025a009fee375a12cff4fcnht8y    1\n",
       "002d229ffb247009810828f648afc2ef593rb    2\n",
       "0030a2dd87ad2733e0873062e4f83954mkj86    1\n",
       "003180b29c6a5f8f1d84a6b7b6f7be57tjj1o    1\n",
       "00486a11dff552c4bd7696265724ff81yeo9v    1\n",
       "Name: consec_bid, dtype: float64"
      ]
     },
     "execution_count": 29,
     "metadata": {},
     "output_type": "execute_result"
    }
   ],
   "source": [
    "a.groupby(['auction','bidder_id'])['consec_bid'].max().groupby(level=1).mean().head()"
   ]
  },
  {
   "cell_type": "markdown",
   "metadata": {},
   "source": [
    "### here I'm calculating how long each auction last by substracting the end time from the start time. Also I save the start time and end time of each auction into new columns"
   ]
  },
  {
   "cell_type": "code",
   "execution_count": 71,
   "metadata": {
    "collapsed": false
   },
   "outputs": [],
   "source": [
    "last_time=sorted_speed.groupby(['auction'])['time'].last()-sorted_speed.groupby(['auction'])['time'].first()\n",
    "start_time=sorted_speed.groupby(['auction'])['time'].first()\n",
    "stop_time=sorted_speed.groupby(['auction'])['time'].last()"
   ]
  },
  {
   "cell_type": "code",
   "execution_count": 29,
   "metadata": {
    "collapsed": false
   },
   "outputs": [
    {
     "data": {
      "text/plain": [
       "auction\n",
       "00270      9.699050e+15\n",
       "008vv      9.759369e+15\n",
       "00cwr      9.695642e+15\n",
       "00do0      9.759324e+15\n",
       "00hjy      9.759410e+15\n",
       "00hm5      9.631996e+15\n",
       "00llo      9.761695e+15\n",
       "00sj9      9.635671e+15\n",
       "010lx      9.637006e+15\n",
       "012sd      9.759251e+15\n",
       "012wh      9.759244e+15\n",
       "0143v      9.632040e+15\n",
       "014m6      9.759324e+15\n",
       "01b3e      9.759266e+15\n",
       "01dgm      9.639211e+15\n",
       "...\n",
       "zz04r      9.760212e+15\n",
       "zz1cb      9.759309e+15\n",
       "zz2r1      9.636429e+15\n",
       "zz2zx      9.631919e+15\n",
       "zz4dz      9.759296e+15\n",
       "zz6y6      9.695612e+15\n",
       "zzal8      9.761711e+15\n",
       "zzdqu      9.695938e+15\n",
       "zzeld      9.632026e+15\n",
       "zzjoj      9.638380e+15\n",
       "zznnc      9.759596e+15\n",
       "zzoy7      9.631994e+15\n",
       "zztha      9.767389e+15\n",
       "zzzlx      9.759265e+15\n",
       "zzzy7      9.641482e+15\n",
       "Name: time, Length: 13963, dtype: float64"
      ]
     },
     "execution_count": 29,
     "metadata": {},
     "output_type": "execute_result"
    }
   ],
   "source": [
    "start_time"
   ]
  },
  {
   "cell_type": "code",
   "execution_count": 16,
   "metadata": {
    "collapsed": false
   },
   "outputs": [],
   "source": [
    "last_time.to_csv('last_time.csv')"
   ]
  },
  {
   "cell_type": "code",
   "execution_count": 30,
   "metadata": {
    "collapsed": true
   },
   "outputs": [],
   "source": [
    "start_time.to_csv('start_time.csv')"
   ]
  },
  {
   "cell_type": "code",
   "execution_count": 72,
   "metadata": {
    "collapsed": true
   },
   "outputs": [],
   "source": [
    "stop_time.to_csv('stop_time.csv')"
   ]
  },
  {
   "cell_type": "code",
   "execution_count": 11,
   "metadata": {
    "collapsed": false
   },
   "outputs": [],
   "source": [
    "last_time=pd.read_csv('last_time.csv')"
   ]
  },
  {
   "cell_type": "code",
   "execution_count": 4,
   "metadata": {
    "collapsed": true
   },
   "outputs": [],
   "source": [
    "start_time=pd.read_csv('start_time.csv')\n",
    "stop_time=pd.read_csv('stop_time.csv')"
   ]
  },
  {
   "cell_type": "code",
   "execution_count": 12,
   "metadata": {
    "collapsed": false
   },
   "outputs": [],
   "source": [
    "sorted_speed=pd.merge(sorted_speed,last_time,how='outer',on='auction')"
   ]
  },
  {
   "cell_type": "code",
   "execution_count": 6,
   "metadata": {
    "collapsed": true
   },
   "outputs": [],
   "source": [
    "sorted_speed=pd.merge(sorted_speed,start_time,how='outer',on='auction')"
   ]
  },
  {
   "cell_type": "code",
   "execution_count": 7,
   "metadata": {
    "collapsed": true
   },
   "outputs": [],
   "source": [
    "sorted_speed=pd.merge(sorted_speed,stop_time,how='outer',on='auction')"
   ]
  },
  {
   "cell_type": "code",
   "execution_count": 24,
   "metadata": {
    "collapsed": false
   },
   "outputs": [],
   "source": [
    "plt.hist(last_time['last_time'],bins=np.arange(0,1000,100))\n",
    "plt.show()"
   ]
  },
  {
   "cell_type": "markdown",
   "metadata": {},
   "source": [
    "## for some auctions there is just one bid, and the last time would be 0, and I get rid of these bids"
   ]
  },
  {
   "cell_type": "code",
   "execution_count": 8,
   "metadata": {
    "collapsed": false
   },
   "outputs": [],
   "source": [
    "sorted_speed=sorted_speed[sorted_speed['last_time']!=0]"
   ]
  },
  {
   "cell_type": "code",
   "execution_count": 9,
   "metadata": {
    "collapsed": false
   },
   "outputs": [
    {
     "data": {
      "text/html": [
       "<div style=\"max-height:1000px;max-width:1500px;overflow:auto;\">\n",
       "<table border=\"1\" class=\"dataframe\">\n",
       "  <thead>\n",
       "    <tr style=\"text-align: right;\">\n",
       "      <th></th>\n",
       "      <th>Unnamed: 0</th>\n",
       "      <th>bid_id</th>\n",
       "      <th>time</th>\n",
       "      <th>speed</th>\n",
       "      <th>last_time</th>\n",
       "      <th>start_time</th>\n",
       "      <th>stop_time</th>\n",
       "    </tr>\n",
       "  </thead>\n",
       "  <tbody>\n",
       "    <tr>\n",
       "      <th>count</th>\n",
       "      <td> 7655238.000000</td>\n",
       "      <td> 7655238.000000</td>\n",
       "      <td> 7.655238e+06</td>\n",
       "      <td> 7.655238e+06</td>\n",
       "      <td> 7.654015e+06</td>\n",
       "      <td> 7.654007e+06</td>\n",
       "      <td> 7.654015e+06</td>\n",
       "    </tr>\n",
       "    <tr>\n",
       "      <th>mean</th>\n",
       "      <td> 3828281.160547</td>\n",
       "      <td> 3828281.160547</td>\n",
       "      <td> 9.697974e+15</td>\n",
       "      <td> 5.285889e+10</td>\n",
       "      <td> 4.703641e+13</td>\n",
       "      <td> 9.675998e+15</td>\n",
       "      <td> 9.723034e+15</td>\n",
       "    </tr>\n",
       "    <tr>\n",
       "      <th>std</th>\n",
       "      <td> 2210152.945871</td>\n",
       "      <td> 2210152.945871</td>\n",
       "      <td> 5.250459e+13</td>\n",
       "      <td> 1.243151e+12</td>\n",
       "      <td> 3.158608e+13</td>\n",
       "      <td> 5.807507e+13</td>\n",
       "      <td> 3.580498e+13</td>\n",
       "    </tr>\n",
       "    <tr>\n",
       "      <th>min</th>\n",
       "      <td>       0.000000</td>\n",
       "      <td>       0.000000</td>\n",
       "      <td> 9.631917e+15</td>\n",
       "      <td> 5.263158e+07</td>\n",
       "      <td> 3.684211e+08</td>\n",
       "      <td> 9.631920e+15</td>\n",
       "      <td> 9.631920e+15</td>\n",
       "    </tr>\n",
       "    <tr>\n",
       "      <th>25%</th>\n",
       "      <td> 1914245.250000</td>\n",
       "      <td> 1914245.250000</td>\n",
       "      <td> 9.641139e+15</td>\n",
       "      <td> 2.631579e+08</td>\n",
       "      <td> 1.352180e+13</td>\n",
       "      <td> 9.631920e+15</td>\n",
       "      <td> 9.707650e+15</td>\n",
       "    </tr>\n",
       "    <tr>\n",
       "      <th>50%</th>\n",
       "      <td> 3828341.500000</td>\n",
       "      <td> 3828341.500000</td>\n",
       "      <td> 9.700653e+15</td>\n",
       "      <td> 1.315789e+09</td>\n",
       "      <td> 6.462730e+13</td>\n",
       "      <td> 9.631960e+15</td>\n",
       "      <td> 9.709220e+15</td>\n",
       "    </tr>\n",
       "    <tr>\n",
       "      <th>75%</th>\n",
       "      <td> 5742311.750000</td>\n",
       "      <td> 5742311.750000</td>\n",
       "      <td> 9.761743e+15</td>\n",
       "      <td> 8.421053e+09</td>\n",
       "      <td> 7.727330e+13</td>\n",
       "      <td> 9.759240e+15</td>\n",
       "      <td> 9.770190e+15</td>\n",
       "    </tr>\n",
       "    <tr>\n",
       "      <th>max</th>\n",
       "      <td> 7656333.000000</td>\n",
       "      <td> 7656333.000000</td>\n",
       "      <td> 9.772885e+15</td>\n",
       "      <td> 7.581879e+13</td>\n",
       "      <td> 7.730520e+13</td>\n",
       "      <td> 9.772780e+15</td>\n",
       "      <td> 9.772890e+15</td>\n",
       "    </tr>\n",
       "  </tbody>\n",
       "</table>\n",
       "</div>"
      ],
      "text/plain": [
       "           Unnamed: 0          bid_id          time         speed  \\\n",
       "count  7655238.000000  7655238.000000  7.655238e+06  7.655238e+06   \n",
       "mean   3828281.160547  3828281.160547  9.697974e+15  5.285889e+10   \n",
       "std    2210152.945871  2210152.945871  5.250459e+13  1.243151e+12   \n",
       "min          0.000000        0.000000  9.631917e+15  5.263158e+07   \n",
       "25%    1914245.250000  1914245.250000  9.641139e+15  2.631579e+08   \n",
       "50%    3828341.500000  3828341.500000  9.700653e+15  1.315789e+09   \n",
       "75%    5742311.750000  5742311.750000  9.761743e+15  8.421053e+09   \n",
       "max    7656333.000000  7656333.000000  9.772885e+15  7.581879e+13   \n",
       "\n",
       "          last_time    start_time     stop_time  \n",
       "count  7.654015e+06  7.654007e+06  7.654015e+06  \n",
       "mean   4.703641e+13  9.675998e+15  9.723034e+15  \n",
       "std    3.158608e+13  5.807507e+13  3.580498e+13  \n",
       "min    3.684211e+08  9.631920e+15  9.631920e+15  \n",
       "25%    1.352180e+13  9.631920e+15  9.707650e+15  \n",
       "50%    6.462730e+13  9.631960e+15  9.709220e+15  \n",
       "75%    7.727330e+13  9.759240e+15  9.770190e+15  \n",
       "max    7.730520e+13  9.772780e+15  9.772890e+15  "
      ]
     },
     "execution_count": 9,
     "metadata": {},
     "output_type": "execute_result"
    }
   ],
   "source": [
    "sorted_speed.describe()"
   ]
  },
  {
   "cell_type": "markdown",
   "metadata": {},
   "source": [
    "## here I'm trying to see if one bid time equal the end time of the auction, which means if the bidder won the auction, since it cannot help us decide if the bidder is a robot or a human"
   ]
  },
  {
   "cell_type": "code",
   "execution_count": 81,
   "metadata": {
    "collapsed": false
   },
   "outputs": [
    {
     "data": {
      "text/plain": [
       "0     False\n",
       "1     False\n",
       "2     False\n",
       "3     False\n",
       "4     False\n",
       "5     False\n",
       "6     False\n",
       "7     False\n",
       "8     False\n",
       "9     False\n",
       "10    False\n",
       "11    False\n",
       "12    False\n",
       "13    False\n",
       "14    False\n",
       "...\n",
       "7656335    False\n",
       "7656336    False\n",
       "7656337    False\n",
       "7656338    False\n",
       "7656339    False\n",
       "7656340    False\n",
       "7656341    False\n",
       "7656342    False\n",
       "7656343    False\n",
       "7656344    False\n",
       "7656345    False\n",
       "7656346    False\n",
       "7656347    False\n",
       "7656348    False\n",
       "7656349    False\n",
       "Length: 7655254, dtype: bool"
      ]
     },
     "execution_count": 81,
     "metadata": {},
     "output_type": "execute_result"
    }
   ],
   "source": [
    "sorted_speed['time']==sorted_speed['stop_time']"
   ]
  },
  {
   "cell_type": "markdown",
   "metadata": {},
   "source": [
    "## here I'm trying to see at what percentage of the auction duration did the bidder bid. Does the bidder intend to bid at the beginning and then quit bidding? or does the bidder intend to start bidding when the auction is close to finish."
   ]
  },
  {
   "cell_type": "code",
   "execution_count": 10,
   "metadata": {
    "collapsed": false
   },
   "outputs": [],
   "source": [
    "sorted_speed['bid_time_percent']=(sorted_speed['time']-sorted_speed['start_time'])/sorted_speed['last_time']"
   ]
  },
  {
   "cell_type": "code",
   "execution_count": 11,
   "metadata": {
    "collapsed": false
   },
   "outputs": [
    {
     "data": {
      "text/html": [
       "<div style=\"max-height:1000px;max-width:1500px;overflow:auto;\">\n",
       "<table border=\"1\" class=\"dataframe\">\n",
       "  <thead>\n",
       "    <tr style=\"text-align: right;\">\n",
       "      <th></th>\n",
       "      <th>Unnamed: 0</th>\n",
       "      <th>bid_id</th>\n",
       "      <th>bidder_id</th>\n",
       "      <th>auction</th>\n",
       "      <th>merchandise</th>\n",
       "      <th>device</th>\n",
       "      <th>time</th>\n",
       "      <th>country</th>\n",
       "      <th>ip</th>\n",
       "      <th>url</th>\n",
       "      <th>speed</th>\n",
       "      <th>last_time</th>\n",
       "      <th>start_time</th>\n",
       "      <th>stop_time</th>\n",
       "      <th>bid_time_percent</th>\n",
       "    </tr>\n",
       "  </thead>\n",
       "  <tbody>\n",
       "    <tr>\n",
       "      <th>0</th>\n",
       "      <td> 5826422</td>\n",
       "      <td> 5826422</td>\n",
       "      <td> 92af1e40713e077ef87f5352fb56772fjnzm7</td>\n",
       "      <td> 00270</td>\n",
       "      <td>         mobile</td>\n",
       "      <td>  phone563</td>\n",
       "      <td> 9.699050e+15</td>\n",
       "      <td> us</td>\n",
       "      <td>  78.188.245.105</td>\n",
       "      <td> vuaaeraf3dqz299</td>\n",
       "      <td> 5.285889e+10</td>\n",
       "      <td> 1.016300e+13</td>\n",
       "      <td> 9.699050e+15</td>\n",
       "      <td> 9.709210e+15</td>\n",
       "      <td>-0.000010</td>\n",
       "    </tr>\n",
       "    <tr>\n",
       "      <th>1</th>\n",
       "      <td> 5834284</td>\n",
       "      <td> 5834284</td>\n",
       "      <td> a939f51234ad2c44eb9ccc84e754f41foiv7g</td>\n",
       "      <td> 00270</td>\n",
       "      <td>         mobile</td>\n",
       "      <td>   phone63</td>\n",
       "      <td> 9.699098e+15</td>\n",
       "      <td> us</td>\n",
       "      <td>  12.142.135.122</td>\n",
       "      <td> fbpq1mgtpgnkqnk</td>\n",
       "      <td> 4.831579e+10</td>\n",
       "      <td> 1.016300e+13</td>\n",
       "      <td> 9.699050e+15</td>\n",
       "      <td> 9.709210e+15</td>\n",
       "      <td> 0.004744</td>\n",
       "    </tr>\n",
       "    <tr>\n",
       "      <th>2</th>\n",
       "      <td> 5850448</td>\n",
       "      <td> 5850448</td>\n",
       "      <td> 92af1e40713e077ef87f5352fb56772fjnzm7</td>\n",
       "      <td> 00270</td>\n",
       "      <td>         mobile</td>\n",
       "      <td>  phone735</td>\n",
       "      <td> 9.699196e+15</td>\n",
       "      <td> us</td>\n",
       "      <td>    2.86.254.154</td>\n",
       "      <td> nn2g552xadgkfch</td>\n",
       "      <td> 9.757895e+10</td>\n",
       "      <td> 1.016300e+13</td>\n",
       "      <td> 9.699050e+15</td>\n",
       "      <td> 9.709210e+15</td>\n",
       "      <td> 0.014345</td>\n",
       "    </tr>\n",
       "    <tr>\n",
       "      <th>3</th>\n",
       "      <td> 5884054</td>\n",
       "      <td> 5884054</td>\n",
       "      <td> 9655ccc7c0c193f1549475f02c54dce45kjw7</td>\n",
       "      <td> 00270</td>\n",
       "      <td> sporting goods</td>\n",
       "      <td>  phone573</td>\n",
       "      <td> 9.699392e+15</td>\n",
       "      <td> us</td>\n",
       "      <td> 149.152.163.145</td>\n",
       "      <td> vasstdc27m7nks3</td>\n",
       "      <td> 1.966842e+11</td>\n",
       "      <td> 1.016300e+13</td>\n",
       "      <td> 9.699050e+15</td>\n",
       "      <td> 9.709210e+15</td>\n",
       "      <td> 0.033698</td>\n",
       "    </tr>\n",
       "    <tr>\n",
       "      <th>4</th>\n",
       "      <td> 5898318</td>\n",
       "      <td> 5898318</td>\n",
       "      <td> 9655ccc7c0c193f1549475f02c54dce45kjw7</td>\n",
       "      <td> 00270</td>\n",
       "      <td> sporting goods</td>\n",
       "      <td> phone2294</td>\n",
       "      <td> 9.699474e+15</td>\n",
       "      <td> us</td>\n",
       "      <td>  219.254.45.139</td>\n",
       "      <td> vasstdc27m7nks3</td>\n",
       "      <td> 8.200000e+10</td>\n",
       "      <td> 1.016300e+13</td>\n",
       "      <td> 9.699050e+15</td>\n",
       "      <td> 9.709210e+15</td>\n",
       "      <td> 0.041767</td>\n",
       "    </tr>\n",
       "  </tbody>\n",
       "</table>\n",
       "</div>"
      ],
      "text/plain": [
       "   Unnamed: 0   bid_id                              bidder_id auction  \\\n",
       "0     5826422  5826422  92af1e40713e077ef87f5352fb56772fjnzm7   00270   \n",
       "1     5834284  5834284  a939f51234ad2c44eb9ccc84e754f41foiv7g   00270   \n",
       "2     5850448  5850448  92af1e40713e077ef87f5352fb56772fjnzm7   00270   \n",
       "3     5884054  5884054  9655ccc7c0c193f1549475f02c54dce45kjw7   00270   \n",
       "4     5898318  5898318  9655ccc7c0c193f1549475f02c54dce45kjw7   00270   \n",
       "\n",
       "      merchandise     device          time country               ip  \\\n",
       "0          mobile   phone563  9.699050e+15      us   78.188.245.105   \n",
       "1          mobile    phone63  9.699098e+15      us   12.142.135.122   \n",
       "2          mobile   phone735  9.699196e+15      us     2.86.254.154   \n",
       "3  sporting goods   phone573  9.699392e+15      us  149.152.163.145   \n",
       "4  sporting goods  phone2294  9.699474e+15      us   219.254.45.139   \n",
       "\n",
       "               url         speed     last_time    start_time     stop_time  \\\n",
       "0  vuaaeraf3dqz299  5.285889e+10  1.016300e+13  9.699050e+15  9.709210e+15   \n",
       "1  fbpq1mgtpgnkqnk  4.831579e+10  1.016300e+13  9.699050e+15  9.709210e+15   \n",
       "2  nn2g552xadgkfch  9.757895e+10  1.016300e+13  9.699050e+15  9.709210e+15   \n",
       "3  vasstdc27m7nks3  1.966842e+11  1.016300e+13  9.699050e+15  9.709210e+15   \n",
       "4  vasstdc27m7nks3  8.200000e+10  1.016300e+13  9.699050e+15  9.709210e+15   \n",
       "\n",
       "   bid_time_percent  \n",
       "0         -0.000010  \n",
       "1          0.004744  \n",
       "2          0.014345  \n",
       "3          0.033698  \n",
       "4          0.041767  "
      ]
     },
     "execution_count": 11,
     "metadata": {},
     "output_type": "execute_result"
    }
   ],
   "source": [
    "sorted_speed.head()"
   ]
  },
  {
   "cell_type": "markdown",
   "metadata": {},
   "source": [
    "## here I define a funciton to find the total number of bids, auctions, uniq devices, country and ip and url aggregated over all auctions"
   ]
  },
  {
   "cell_type": "code",
   "execution_count": 4,
   "metadata": {
    "collapsed": false
   },
   "outputs": [],
   "source": [
    "def extractFeatures(group):\n",
    "    bid_num = len(set(group['bid_id']))\n",
    "    auc_num = len(set(group['auction']))\n",
    "    uniq_device = len(set(group['device']))\n",
    "    uniq_country = len(set(group['country']))\n",
    "    uniq_ip = len(set(group['ip']))\n",
    "    uniq_url = len(set(group['url']))\n",
    "    \n",
    "\n",
    "    return pd.Series([bid_num, auc_num, uniq_device, uniq_country, uniq_ip, uniq_url])\n",
    "\n",
    "features = grouped.apply(extractFeatures)"
   ]
  },
  {
   "cell_type": "code",
   "execution_count": 5,
   "metadata": {
    "collapsed": true
   },
   "outputs": [],
   "source": [
    "features.columns = [\"bid_num\", \"auc_num\", \"uniq_device\", \"uniq_country\", \"uniq_ip\", \"uniq_url\"]"
   ]
  },
  {
   "cell_type": "code",
   "execution_count": 17,
   "metadata": {
    "collapsed": true
   },
   "outputs": [],
   "source": [
    "grouped = sorted_speed.groupby('bidder_id')"
   ]
  },
  {
   "cell_type": "markdown",
   "metadata": {},
   "source": [
    "## here first I aggregate over each auction, find the bids, country, device, ip and url for each bidder. And for each bidder, I use the maximum value out of all the auctions. The idea behind this is robots might by \"hybrids\". if a user shows both robots and human operated bids behavior, we should still label the user as a robot "
   ]
  },
  {
   "cell_type": "code",
   "execution_count": 6,
   "metadata": {
    "collapsed": true
   },
   "outputs": [],
   "source": [
    "features['max_auc_bid']=sorted_speed.groupby(['bidder_id','auction'])['bid_id'].count().groupby(level=0).max()\n",
    "features['max_auc_country']=sorted_speed.groupby(['bidder_id','auction'])['country'].apply(lambda x: len(x.unique())).groupby(level=0).max()\n",
    "features['max_auc_device']=sorted_speed.groupby(['bidder_id','auction'])['device'].apply(lambda x: len(x.unique())).groupby(level=0).max()\n",
    "features['max_auc_ip']=sorted_speed.groupby(['bidder_id','auction'])['ip'].apply(lambda x: len(x.unique())).groupby(level=0).max()\n",
    "features['max_auc_url']=sorted_speed.groupby(['bidder_id','auction'])['url'].apply(lambda x: len(x.unique())).groupby(level=0).max()"
   ]
  },
  {
   "cell_type": "markdown",
   "metadata": {},
   "source": [
    "## here first I aggregate over each auction, find the bids, country, device, ip and url for each bidder. And for each bidder, I calculate the mean and variance of these features over different auctions. "
   ]
  },
  {
   "cell_type": "code",
   "execution_count": 30,
   "metadata": {
    "collapsed": false
   },
   "outputs": [],
   "source": [
    "features['mean_auc_bid']=sorted_speed.groupby(['bidder_id','auction'])['bid_id'].count().groupby(level=0).mean()\n",
    "features['std_auc_bid']=sorted_speed.groupby(['bidder_id','auction'])['bid_id'].count().groupby(level=0).std()\n",
    "features['mean_auc_country']=sorted_speed.groupby(['bidder_id','auction'])['country'].apply(lambda x: len(x.unique())).groupby(level=0).mean()\n",
    "features['std_auc_country']=sorted_speed.groupby(['bidder_id','auction'])['country'].apply(lambda x: len(x.unique())).groupby(level=0).std()\n",
    "features['mean_auc_device']=sorted_speed.groupby(['bidder_id','auction'])['device'].apply(lambda x: len(x.unique())).groupby(level=0).mean()\n",
    "features['std_auc_device']=sorted_speed.groupby(['bidder_id','auction'])['device'].apply(lambda x: len(x.unique())).groupby(level=0).std()\n",
    "features['mean_auc_ip']=sorted_speed.groupby(['bidder_id','auction'])['ip'].apply(lambda x: len(x.unique())).groupby(level=0).mean()\n",
    "features['std_auc_ip']=sorted_speed.groupby(['bidder_id','auction'])['ip'].apply(lambda x: len(x.unique())).groupby(level=0).std()\n",
    "features['mean_auc_url']=sorted_speed.groupby(['bidder_id','auction'])['url'].apply(lambda x: len(x.unique())).groupby(level=0).mean()\n",
    "features['std_auc_url']=sorted_speed.groupby(['bidder_id','auction'])['url'].apply(lambda x: len(x.unique())).groupby(level=0).std()\n"
   ]
  },
  {
   "cell_type": "markdown",
   "metadata": {},
   "source": [
    "## here I calculate the mean and variance of bidding time intervals; \n",
    "##mean and variance of bidding time percentage in each auction; \n",
    "##The winning rate of each bidder; \n",
    "##if one bidder is bidding on different auctions at exactly the same time; \n",
    "##how many consecutive bidding a bidder have in one auction; \n",
    "##mean and variance of a bidder starting and stopping time percentage in each auction"
   ]
  },
  {
   "cell_type": "code",
   "execution_count": null,
   "metadata": {
    "collapsed": true
   },
   "outputs": [],
   "source": [
    "features['mean_speed']=grouped.mean()['speed']\n",
    "features['std_speed']=grouped.std()['speed']\n",
    "features['mean_bid_time_percent']=sorted_speed.groupby(['bidder_id','auction'])['bid_time_percent'].mean().groupby(level=0).mean()\n",
    "features['std_bid_time_percent']=sorted_speed.groupby(['bidder_id','auction'])['bid_time_percent'].mean().groupby(level=0).std()\n",
    "features['winning_rate']=(sorted_speed.groupby(['bidder_id','auction'])['time'].last()==sorted_speed.groupby(['bidder_id','auction'])['stop_time'].last()).groupby(level=0).mean()\n",
    "features['parallel_bid']=sorted_speed.groupby(['bidder_id','time'])['bid_id'].size().groupby(level=0).max()\n",
    "features['consecutive_bid']=a.groupby(['auction','bidder_id'])['consec_bid'].max().groupby(level=1).mean()\n",
    "features['mean_enter_time_percent']=((sorted_speed.groupby(['auction','bidder_id'])['time'].first()-sorted_speed.groupby(['auction','bidder_id'])['start_time'].first())/sorted_speed.groupby(['auction','bidder_id'])['last_time'].first()).groupby(level=1).mean()\n",
    "features['std_enter_time_percent']=((sorted_speed.groupby(['auction','bidder_id'])['time'].first()-sorted_speed.groupby(['auction','bidder_id'])['start_time'].first())/sorted_speed.groupby(['auction','bidder_id'])['last_time'].first()).groupby(level=1).std()\n",
    "features['mean_exit_time_percent']=((sorted_speed.groupby(['auction','bidder_id'])['time'].last()-sorted_speed.groupby(['auction','bidder_id'])['start_time'].last())/sorted_speed.groupby(['auction','bidder_id'])['last_time'].last()).groupby(level=1).mean()\n",
    "features['std_exit_time_percent']=((sorted_speed.groupby(['auction','bidder_id'])['time'].last()-sorted_speed.groupby(['auction','bidder_id'])['start_time'].last())/sorted_speed.groupby(['auction','bidder_id'])['last_time'].last()).groupby(level=1).std()"
   ]
  },
  {
   "cell_type": "code",
   "execution_count": null,
   "metadata": {
    "collapsed": true
   },
   "outputs": [],
   "source": [
    "sorted_speed.drop(['last_time','start_time'], axis=1, inplace=True)"
   ]
  },
  {
   "cell_type": "code",
   "execution_count": 7,
   "metadata": {
    "collapsed": false
   },
   "outputs": [
    {
     "data": {
      "text/html": [
       "<div style=\"max-height:1000px;max-width:1500px;overflow:auto;\">\n",
       "<table border=\"1\" class=\"dataframe\">\n",
       "  <thead>\n",
       "    <tr style=\"text-align: right;\">\n",
       "      <th></th>\n",
       "      <th>bid_num</th>\n",
       "      <th>auc_num</th>\n",
       "      <th>uniq_device</th>\n",
       "      <th>uniq_country</th>\n",
       "      <th>uniq_ip</th>\n",
       "      <th>uniq_url</th>\n",
       "      <th>max_auc_bid</th>\n",
       "      <th>max_auc_country</th>\n",
       "      <th>max_auc_device</th>\n",
       "      <th>max_auc_ip</th>\n",
       "      <th>max_auc_url</th>\n",
       "    </tr>\n",
       "  </thead>\n",
       "  <tbody>\n",
       "    <tr>\n",
       "      <th>count</th>\n",
       "      <td>   6614.000000</td>\n",
       "      <td> 6614.000000</td>\n",
       "      <td> 6614.000000</td>\n",
       "      <td> 6614.000000</td>\n",
       "      <td>   6614.000000</td>\n",
       "      <td>  6614.000000</td>\n",
       "      <td>  6614.000000</td>\n",
       "      <td> 6614.000000</td>\n",
       "      <td> 6614.000000</td>\n",
       "      <td>  6614.000000</td>\n",
       "      <td> 6614.000000</td>\n",
       "    </tr>\n",
       "    <tr>\n",
       "      <th>mean</th>\n",
       "      <td>   1157.595101</td>\n",
       "      <td>   57.807832</td>\n",
       "      <td>   73.437557</td>\n",
       "      <td>   12.812217</td>\n",
       "      <td>    544.096311</td>\n",
       "      <td>   290.744935</td>\n",
       "      <td>   214.599486</td>\n",
       "      <td>    4.609918</td>\n",
       "      <td>   25.934230</td>\n",
       "      <td>   123.594648</td>\n",
       "      <td>   55.870426</td>\n",
       "    </tr>\n",
       "    <tr>\n",
       "      <th>std</th>\n",
       "      <td>   9593.019312</td>\n",
       "      <td>  131.773477</td>\n",
       "      <td>  172.117540</td>\n",
       "      <td>   22.682700</td>\n",
       "      <td>   3369.489261</td>\n",
       "      <td>  2225.085049</td>\n",
       "      <td>  1508.417980</td>\n",
       "      <td>   10.313281</td>\n",
       "      <td>   72.548414</td>\n",
       "      <td>   934.328350</td>\n",
       "      <td>  309.411735</td>\n",
       "    </tr>\n",
       "    <tr>\n",
       "      <th>min</th>\n",
       "      <td>      1.000000</td>\n",
       "      <td>    1.000000</td>\n",
       "      <td>    1.000000</td>\n",
       "      <td>    1.000000</td>\n",
       "      <td>      1.000000</td>\n",
       "      <td>     1.000000</td>\n",
       "      <td>     1.000000</td>\n",
       "      <td>    1.000000</td>\n",
       "      <td>    1.000000</td>\n",
       "      <td>     1.000000</td>\n",
       "      <td>    1.000000</td>\n",
       "    </tr>\n",
       "    <tr>\n",
       "      <th>25%</th>\n",
       "      <td>      3.000000</td>\n",
       "      <td>    2.000000</td>\n",
       "      <td>    2.000000</td>\n",
       "      <td>    1.000000</td>\n",
       "      <td>      2.000000</td>\n",
       "      <td>     1.000000</td>\n",
       "      <td>     1.000000</td>\n",
       "      <td>    1.000000</td>\n",
       "      <td>    1.000000</td>\n",
       "      <td>     1.000000</td>\n",
       "      <td>    1.000000</td>\n",
       "    </tr>\n",
       "    <tr>\n",
       "      <th>50%</th>\n",
       "      <td>     18.000000</td>\n",
       "      <td>   10.000000</td>\n",
       "      <td>    8.000000</td>\n",
       "      <td>    3.000000</td>\n",
       "      <td>     12.000000</td>\n",
       "      <td>     5.000000</td>\n",
       "      <td>     4.000000</td>\n",
       "      <td>    1.000000</td>\n",
       "      <td>    3.000000</td>\n",
       "      <td>     3.000000</td>\n",
       "      <td>    2.000000</td>\n",
       "    </tr>\n",
       "    <tr>\n",
       "      <th>75%</th>\n",
       "      <td>    187.000000</td>\n",
       "      <td>   47.000000</td>\n",
       "      <td>   57.000000</td>\n",
       "      <td>   12.000000</td>\n",
       "      <td>    110.750000</td>\n",
       "      <td>    36.000000</td>\n",
       "      <td>    31.000000</td>\n",
       "      <td>    3.000000</td>\n",
       "      <td>   14.000000</td>\n",
       "      <td>    21.000000</td>\n",
       "      <td>    9.000000</td>\n",
       "    </tr>\n",
       "    <tr>\n",
       "      <th>max</th>\n",
       "      <td> 515033.000000</td>\n",
       "      <td> 1726.000000</td>\n",
       "      <td> 2618.000000</td>\n",
       "      <td>  179.000000</td>\n",
       "      <td> 111918.000000</td>\n",
       "      <td> 81376.000000</td>\n",
       "      <td> 62485.000000</td>\n",
       "      <td>  168.000000</td>\n",
       "      <td> 1273.000000</td>\n",
       "      <td> 48923.000000</td>\n",
       "      <td> 7497.000000</td>\n",
       "    </tr>\n",
       "  </tbody>\n",
       "</table>\n",
       "</div>"
      ],
      "text/plain": [
       "             bid_num      auc_num  uniq_device  uniq_country        uniq_ip  \\\n",
       "count    6614.000000  6614.000000  6614.000000   6614.000000    6614.000000   \n",
       "mean     1157.595101    57.807832    73.437557     12.812217     544.096311   \n",
       "std      9593.019312   131.773477   172.117540     22.682700    3369.489261   \n",
       "min         1.000000     1.000000     1.000000      1.000000       1.000000   \n",
       "25%         3.000000     2.000000     2.000000      1.000000       2.000000   \n",
       "50%        18.000000    10.000000     8.000000      3.000000      12.000000   \n",
       "75%       187.000000    47.000000    57.000000     12.000000     110.750000   \n",
       "max    515033.000000  1726.000000  2618.000000    179.000000  111918.000000   \n",
       "\n",
       "           uniq_url   max_auc_bid  max_auc_country  max_auc_device  \\\n",
       "count   6614.000000   6614.000000      6614.000000     6614.000000   \n",
       "mean     290.744935    214.599486         4.609918       25.934230   \n",
       "std     2225.085049   1508.417980        10.313281       72.548414   \n",
       "min        1.000000      1.000000         1.000000        1.000000   \n",
       "25%        1.000000      1.000000         1.000000        1.000000   \n",
       "50%        5.000000      4.000000         1.000000        3.000000   \n",
       "75%       36.000000     31.000000         3.000000       14.000000   \n",
       "max    81376.000000  62485.000000       168.000000     1273.000000   \n",
       "\n",
       "         max_auc_ip  max_auc_url  \n",
       "count   6614.000000  6614.000000  \n",
       "mean     123.594648    55.870426  \n",
       "std      934.328350   309.411735  \n",
       "min        1.000000     1.000000  \n",
       "25%        1.000000     1.000000  \n",
       "50%        3.000000     2.000000  \n",
       "75%       21.000000     9.000000  \n",
       "max    48923.000000  7497.000000  "
      ]
     },
     "execution_count": 7,
     "metadata": {},
     "output_type": "execute_result"
    }
   ],
   "source": [
    "features.describe()"
   ]
  },
  {
   "cell_type": "code",
   "execution_count": 38,
   "metadata": {
    "collapsed": true
   },
   "outputs": [],
   "source": [
    "features['median_auc_bid']=sorted_speed.groupby(['bidder_id','auction'])['bid_id'].count().groupby(level=0).median()\n",
    "features['median_auc_country']=sorted_speed.groupby(['bidder_id','auction'])['country'].apply(lambda x: len(x.unique())).groupby(level=0).median()\n",
    "features['median_auc_device']=sorted_speed.groupby(['bidder_id','auction'])['device'].apply(lambda x: len(x.unique())).groupby(level=0).median()\n",
    "features['median_auc_ip']=sorted_speed.groupby(['bidder_id','auction'])['ip'].apply(lambda x: len(x.unique())).groupby(level=0).median()\n",
    "features['median_auc_url']=sorted_speed.groupby(['bidder_id','auction'])['url'].apply(lambda x: len(x.unique())).groupby(level=0).median()\n"
   ]
  },
  {
   "cell_type": "markdown",
   "metadata": {
    "collapsed": true
   },
   "source": [
    "# here I calculate for each bidder, the ratios between features. The idea is maybe human bidders can bid as much as a robot, but they ratio between some features might be different from a robot. And most linear combinations of features doesn't include this important feature."
   ]
  },
  {
   "cell_type": "code",
   "execution_count": 39,
   "metadata": {
    "collapsed": false
   },
   "outputs": [],
   "source": [
    "features['bids_over_auc']=features['bid_num']/features['auc_num']\n",
    "features['bids_over_device']=features['bid_num']/features['uniq_device']\n",
    "features['bids_over_country']=features['bid_num']/features['uniq_country']\n",
    "features['bids_over_ip']=features['bid_num']/features['uniq_ip']\n",
    "features['bids_over_url']=features['bid_num']/features['uniq_url']\n",
    "features['auc_over_device']=features['auc_num']/features['uniq_device']\n",
    "features['auc_over_country']=features['auc_num']/features['uniq_country']\n",
    "features['auc_over_ip']=features['auc_num']/features['uniq_ip']\n",
    "features['auc_over_url']=features['auc_num']/features['uniq_url']\n",
    "features['device_over_ip']=features['uniq_device']/features['uniq_ip']\n",
    "features['country_over_ip']=features['uniq_country']/features['uniq_ip']"
   ]
  },
  {
   "cell_type": "code",
   "execution_count": 40,
   "metadata": {
    "collapsed": false
   },
   "outputs": [
    {
     "data": {
      "text/html": [
       "<div style=\"max-height:1000px;max-width:1500px;overflow:auto;\">\n",
       "<table border=\"1\" class=\"dataframe\">\n",
       "  <thead>\n",
       "    <tr style=\"text-align: right;\">\n",
       "      <th></th>\n",
       "      <th>bid_num</th>\n",
       "      <th>auc_num</th>\n",
       "      <th>uniq_device</th>\n",
       "      <th>uniq_country</th>\n",
       "      <th>uniq_ip</th>\n",
       "      <th>uniq_url</th>\n",
       "      <th>mean_auc_bid</th>\n",
       "      <th>std_auc_bid</th>\n",
       "      <th>mean_auc_country</th>\n",
       "      <th>std_auc_country</th>\n",
       "      <th>...</th>\n",
       "      <th>bids_over_device</th>\n",
       "      <th>bids_over_country</th>\n",
       "      <th>bids_over_ip</th>\n",
       "      <th>bids_over_url</th>\n",
       "      <th>auc_over_device</th>\n",
       "      <th>auc_over_country</th>\n",
       "      <th>auc_over_ip</th>\n",
       "      <th>auc_over_url</th>\n",
       "      <th>device_over_ip</th>\n",
       "      <th>country_over_ip</th>\n",
       "    </tr>\n",
       "    <tr>\n",
       "      <th>bidder_id</th>\n",
       "      <th></th>\n",
       "      <th></th>\n",
       "      <th></th>\n",
       "      <th></th>\n",
       "      <th></th>\n",
       "      <th></th>\n",
       "      <th></th>\n",
       "      <th></th>\n",
       "      <th></th>\n",
       "      <th></th>\n",
       "      <th></th>\n",
       "      <th></th>\n",
       "      <th></th>\n",
       "      <th></th>\n",
       "      <th></th>\n",
       "      <th></th>\n",
       "      <th></th>\n",
       "      <th></th>\n",
       "      <th></th>\n",
       "      <th></th>\n",
       "      <th></th>\n",
       "    </tr>\n",
       "  </thead>\n",
       "  <tbody>\n",
       "    <tr>\n",
       "      <th>001068c415025a009fee375a12cff4fcnht8y</th>\n",
       "      <td>  1</td>\n",
       "      <td>  1</td>\n",
       "      <td> 1</td>\n",
       "      <td> 1</td>\n",
       "      <td>  1</td>\n",
       "      <td> 1</td>\n",
       "      <td> 1.000000</td>\n",
       "      <td>      NaN</td>\n",
       "      <td> 1</td>\n",
       "      <td>NaN</td>\n",
       "      <td>...</td>\n",
       "      <td> 1.0</td>\n",
       "      <td>  1</td>\n",
       "      <td> 1</td>\n",
       "      <td> 1.000000</td>\n",
       "      <td> 1.000</td>\n",
       "      <td>  1</td>\n",
       "      <td> 1.0</td>\n",
       "      <td> 1.000000</td>\n",
       "      <td> 1.0</td>\n",
       "      <td> 1.000000</td>\n",
       "    </tr>\n",
       "    <tr>\n",
       "      <th>002d229ffb247009810828f648afc2ef593rb</th>\n",
       "      <td>  2</td>\n",
       "      <td>  1</td>\n",
       "      <td> 2</td>\n",
       "      <td> 1</td>\n",
       "      <td>  1</td>\n",
       "      <td> 1</td>\n",
       "      <td> 2.000000</td>\n",
       "      <td>      NaN</td>\n",
       "      <td> 1</td>\n",
       "      <td>NaN</td>\n",
       "      <td>...</td>\n",
       "      <td> 1.0</td>\n",
       "      <td>  2</td>\n",
       "      <td> 2</td>\n",
       "      <td> 2.000000</td>\n",
       "      <td> 0.500</td>\n",
       "      <td>  1</td>\n",
       "      <td> 1.0</td>\n",
       "      <td> 1.000000</td>\n",
       "      <td> 2.0</td>\n",
       "      <td> 1.000000</td>\n",
       "    </tr>\n",
       "    <tr>\n",
       "      <th>0030a2dd87ad2733e0873062e4f83954mkj86</th>\n",
       "      <td>  1</td>\n",
       "      <td>  1</td>\n",
       "      <td> 1</td>\n",
       "      <td> 1</td>\n",
       "      <td>  1</td>\n",
       "      <td> 1</td>\n",
       "      <td> 1.000000</td>\n",
       "      <td>      NaN</td>\n",
       "      <td> 1</td>\n",
       "      <td>NaN</td>\n",
       "      <td>...</td>\n",
       "      <td> 1.0</td>\n",
       "      <td>  1</td>\n",
       "      <td> 1</td>\n",
       "      <td> 1.000000</td>\n",
       "      <td> 1.000</td>\n",
       "      <td>  1</td>\n",
       "      <td> 1.0</td>\n",
       "      <td> 1.000000</td>\n",
       "      <td> 1.0</td>\n",
       "      <td> 1.000000</td>\n",
       "    </tr>\n",
       "    <tr>\n",
       "      <th>003180b29c6a5f8f1d84a6b7b6f7be57tjj1o</th>\n",
       "      <td>  3</td>\n",
       "      <td>  3</td>\n",
       "      <td> 3</td>\n",
       "      <td> 1</td>\n",
       "      <td>  3</td>\n",
       "      <td> 2</td>\n",
       "      <td> 1.000000</td>\n",
       "      <td> 0.000000</td>\n",
       "      <td> 1</td>\n",
       "      <td>  0</td>\n",
       "      <td>...</td>\n",
       "      <td> 1.0</td>\n",
       "      <td>  3</td>\n",
       "      <td> 1</td>\n",
       "      <td> 1.500000</td>\n",
       "      <td> 1.000</td>\n",
       "      <td>  3</td>\n",
       "      <td> 1.0</td>\n",
       "      <td> 1.500000</td>\n",
       "      <td> 1.0</td>\n",
       "      <td> 0.333333</td>\n",
       "    </tr>\n",
       "    <tr>\n",
       "      <th>00486a11dff552c4bd7696265724ff81yeo9v</th>\n",
       "      <td> 20</td>\n",
       "      <td> 13</td>\n",
       "      <td> 8</td>\n",
       "      <td> 1</td>\n",
       "      <td> 10</td>\n",
       "      <td> 7</td>\n",
       "      <td> 1.538462</td>\n",
       "      <td> 0.660225</td>\n",
       "      <td> 1</td>\n",
       "      <td>  0</td>\n",
       "      <td>...</td>\n",
       "      <td> 2.5</td>\n",
       "      <td> 20</td>\n",
       "      <td> 2</td>\n",
       "      <td> 2.857143</td>\n",
       "      <td> 1.625</td>\n",
       "      <td> 13</td>\n",
       "      <td> 1.3</td>\n",
       "      <td> 1.857143</td>\n",
       "      <td> 0.8</td>\n",
       "      <td> 0.100000</td>\n",
       "    </tr>\n",
       "  </tbody>\n",
       "</table>\n",
       "<p>5 rows × 43 columns</p>\n",
       "</div>"
      ],
      "text/plain": [
       "                                       bid_num  auc_num  uniq_device  \\\n",
       "bidder_id                                                              \n",
       "001068c415025a009fee375a12cff4fcnht8y        1        1            1   \n",
       "002d229ffb247009810828f648afc2ef593rb        2        1            2   \n",
       "0030a2dd87ad2733e0873062e4f83954mkj86        1        1            1   \n",
       "003180b29c6a5f8f1d84a6b7b6f7be57tjj1o        3        3            3   \n",
       "00486a11dff552c4bd7696265724ff81yeo9v       20       13            8   \n",
       "\n",
       "                                       uniq_country  uniq_ip  uniq_url  \\\n",
       "bidder_id                                                                \n",
       "001068c415025a009fee375a12cff4fcnht8y             1        1         1   \n",
       "002d229ffb247009810828f648afc2ef593rb             1        1         1   \n",
       "0030a2dd87ad2733e0873062e4f83954mkj86             1        1         1   \n",
       "003180b29c6a5f8f1d84a6b7b6f7be57tjj1o             1        3         2   \n",
       "00486a11dff552c4bd7696265724ff81yeo9v             1       10         7   \n",
       "\n",
       "                                       mean_auc_bid  std_auc_bid  \\\n",
       "bidder_id                                                          \n",
       "001068c415025a009fee375a12cff4fcnht8y      1.000000          NaN   \n",
       "002d229ffb247009810828f648afc2ef593rb      2.000000          NaN   \n",
       "0030a2dd87ad2733e0873062e4f83954mkj86      1.000000          NaN   \n",
       "003180b29c6a5f8f1d84a6b7b6f7be57tjj1o      1.000000     0.000000   \n",
       "00486a11dff552c4bd7696265724ff81yeo9v      1.538462     0.660225   \n",
       "\n",
       "                                       mean_auc_country  std_auc_country  \\\n",
       "bidder_id                                                                  \n",
       "001068c415025a009fee375a12cff4fcnht8y                 1              NaN   \n",
       "002d229ffb247009810828f648afc2ef593rb                 1              NaN   \n",
       "0030a2dd87ad2733e0873062e4f83954mkj86                 1              NaN   \n",
       "003180b29c6a5f8f1d84a6b7b6f7be57tjj1o                 1                0   \n",
       "00486a11dff552c4bd7696265724ff81yeo9v                 1                0   \n",
       "\n",
       "                                            ...         bids_over_device  \\\n",
       "bidder_id                                   ...                            \n",
       "001068c415025a009fee375a12cff4fcnht8y       ...                      1.0   \n",
       "002d229ffb247009810828f648afc2ef593rb       ...                      1.0   \n",
       "0030a2dd87ad2733e0873062e4f83954mkj86       ...                      1.0   \n",
       "003180b29c6a5f8f1d84a6b7b6f7be57tjj1o       ...                      1.0   \n",
       "00486a11dff552c4bd7696265724ff81yeo9v       ...                      2.5   \n",
       "\n",
       "                                       bids_over_country  bids_over_ip  \\\n",
       "bidder_id                                                                \n",
       "001068c415025a009fee375a12cff4fcnht8y                  1             1   \n",
       "002d229ffb247009810828f648afc2ef593rb                  2             2   \n",
       "0030a2dd87ad2733e0873062e4f83954mkj86                  1             1   \n",
       "003180b29c6a5f8f1d84a6b7b6f7be57tjj1o                  3             1   \n",
       "00486a11dff552c4bd7696265724ff81yeo9v                 20             2   \n",
       "\n",
       "                                       bids_over_url  auc_over_device  \\\n",
       "bidder_id                                                               \n",
       "001068c415025a009fee375a12cff4fcnht8y       1.000000            1.000   \n",
       "002d229ffb247009810828f648afc2ef593rb       2.000000            0.500   \n",
       "0030a2dd87ad2733e0873062e4f83954mkj86       1.000000            1.000   \n",
       "003180b29c6a5f8f1d84a6b7b6f7be57tjj1o       1.500000            1.000   \n",
       "00486a11dff552c4bd7696265724ff81yeo9v       2.857143            1.625   \n",
       "\n",
       "                                       auc_over_country  auc_over_ip  \\\n",
       "bidder_id                                                              \n",
       "001068c415025a009fee375a12cff4fcnht8y                 1          1.0   \n",
       "002d229ffb247009810828f648afc2ef593rb                 1          1.0   \n",
       "0030a2dd87ad2733e0873062e4f83954mkj86                 1          1.0   \n",
       "003180b29c6a5f8f1d84a6b7b6f7be57tjj1o                 3          1.0   \n",
       "00486a11dff552c4bd7696265724ff81yeo9v                13          1.3   \n",
       "\n",
       "                                       auc_over_url  device_over_ip  \\\n",
       "bidder_id                                                             \n",
       "001068c415025a009fee375a12cff4fcnht8y      1.000000             1.0   \n",
       "002d229ffb247009810828f648afc2ef593rb      1.000000             2.0   \n",
       "0030a2dd87ad2733e0873062e4f83954mkj86      1.000000             1.0   \n",
       "003180b29c6a5f8f1d84a6b7b6f7be57tjj1o      1.500000             1.0   \n",
       "00486a11dff552c4bd7696265724ff81yeo9v      1.857143             0.8   \n",
       "\n",
       "                                       country_over_ip  \n",
       "bidder_id                                               \n",
       "001068c415025a009fee375a12cff4fcnht8y         1.000000  \n",
       "002d229ffb247009810828f648afc2ef593rb         1.000000  \n",
       "0030a2dd87ad2733e0873062e4f83954mkj86         1.000000  \n",
       "003180b29c6a5f8f1d84a6b7b6f7be57tjj1o         0.333333  \n",
       "00486a11dff552c4bd7696265724ff81yeo9v         0.100000  \n",
       "\n",
       "[5 rows x 43 columns]"
      ]
     },
     "execution_count": 40,
     "metadata": {},
     "output_type": "execute_result"
    }
   ],
   "source": [
    "features.head()"
   ]
  },
  {
   "cell_type": "markdown",
   "metadata": {},
   "source": [
    "## fill NAN as 0, log features and make the distribution more normalized, and scale all features and save"
   ]
  },
  {
   "cell_type": "code",
   "execution_count": 8,
   "metadata": {
    "collapsed": true
   },
   "outputs": [],
   "source": [
    "features.fillna(0).to_csv('features_0609.csv')"
   ]
  },
  {
   "cell_type": "code",
   "execution_count": 48,
   "metadata": {
    "collapsed": false
   },
   "outputs": [],
   "source": [
    "features_log=np.log(features.fillna(0)+5)"
   ]
  },
  {
   "cell_type": "code",
   "execution_count": 49,
   "metadata": {
    "collapsed": false
   },
   "outputs": [],
   "source": [
    "features_norm=features_log.apply(lambda x: StandardScaler().fit_transform(x))"
   ]
  },
  {
   "cell_type": "code",
   "execution_count": 50,
   "metadata": {
    "collapsed": false
   },
   "outputs": [
    {
     "data": {
      "text/html": [
       "<div style=\"max-height:1000px;max-width:1500px;overflow:auto;\">\n",
       "<table border=\"1\" class=\"dataframe\">\n",
       "  <thead>\n",
       "    <tr style=\"text-align: right;\">\n",
       "      <th></th>\n",
       "      <th>bid_num</th>\n",
       "      <th>auc_num</th>\n",
       "      <th>uniq_device</th>\n",
       "      <th>uniq_country</th>\n",
       "      <th>uniq_ip</th>\n",
       "      <th>uniq_url</th>\n",
       "      <th>mean_auc_bid</th>\n",
       "      <th>std_auc_bid</th>\n",
       "      <th>mean_auc_country</th>\n",
       "      <th>std_auc_country</th>\n",
       "      <th>...</th>\n",
       "      <th>bids_over_device</th>\n",
       "      <th>bids_over_country</th>\n",
       "      <th>bids_over_ip</th>\n",
       "      <th>bids_over_url</th>\n",
       "      <th>auc_over_device</th>\n",
       "      <th>auc_over_country</th>\n",
       "      <th>auc_over_ip</th>\n",
       "      <th>auc_over_url</th>\n",
       "      <th>device_over_ip</th>\n",
       "      <th>country_over_ip</th>\n",
       "    </tr>\n",
       "  </thead>\n",
       "  <tbody>\n",
       "    <tr>\n",
       "      <th>count</th>\n",
       "      <td> 6.613000e+03</td>\n",
       "      <td> 6.613000e+03</td>\n",
       "      <td> 6.613000e+03</td>\n",
       "      <td> 6.613000e+03</td>\n",
       "      <td> 6.613000e+03</td>\n",
       "      <td> 6.613000e+03</td>\n",
       "      <td> 6.613000e+03</td>\n",
       "      <td> 6.613000e+03</td>\n",
       "      <td> 6.613000e+03</td>\n",
       "      <td> 6.613000e+03</td>\n",
       "      <td>...</td>\n",
       "      <td> 6.613000e+03</td>\n",
       "      <td> 6.613000e+03</td>\n",
       "      <td> 6.613000e+03</td>\n",
       "      <td> 6.613000e+03</td>\n",
       "      <td> 6.613000e+03</td>\n",
       "      <td> 6.613000e+03</td>\n",
       "      <td> 6.613000e+03</td>\n",
       "      <td> 6.613000e+03</td>\n",
       "      <td> 6.613000e+03</td>\n",
       "      <td> 6.613000e+03</td>\n",
       "    </tr>\n",
       "    <tr>\n",
       "      <th>mean</th>\n",
       "      <td>-1.128187e-17</td>\n",
       "      <td> 2.105949e-16</td>\n",
       "      <td> 3.019243e-16</td>\n",
       "      <td> 1.332335e-16</td>\n",
       "      <td>-1.826588e-17</td>\n",
       "      <td> 2.578712e-16</td>\n",
       "      <td>-1.514994e-16</td>\n",
       "      <td> 4.335460e-16</td>\n",
       "      <td> 1.069091e-15</td>\n",
       "      <td> 1.127112e-15</td>\n",
       "      <td>...</td>\n",
       "      <td> 3.972829e-16</td>\n",
       "      <td> 1.668105e-16</td>\n",
       "      <td>-5.802103e-17</td>\n",
       "      <td> 2.216081e-16</td>\n",
       "      <td> 8.756878e-16</td>\n",
       "      <td> 9.149057e-16</td>\n",
       "      <td> 1.046527e-15</td>\n",
       "      <td> 1.402175e-16</td>\n",
       "      <td>-8.638687e-16</td>\n",
       "      <td>-8.896558e-16</td>\n",
       "    </tr>\n",
       "    <tr>\n",
       "      <th>std</th>\n",
       "      <td> 1.000076e+00</td>\n",
       "      <td> 1.000076e+00</td>\n",
       "      <td> 1.000076e+00</td>\n",
       "      <td> 1.000076e+00</td>\n",
       "      <td> 1.000076e+00</td>\n",
       "      <td> 1.000076e+00</td>\n",
       "      <td> 1.000076e+00</td>\n",
       "      <td> 1.000076e+00</td>\n",
       "      <td> 1.000076e+00</td>\n",
       "      <td> 1.000076e+00</td>\n",
       "      <td>...</td>\n",
       "      <td> 1.000076e+00</td>\n",
       "      <td> 1.000076e+00</td>\n",
       "      <td> 1.000076e+00</td>\n",
       "      <td> 1.000076e+00</td>\n",
       "      <td> 1.000076e+00</td>\n",
       "      <td> 1.000076e+00</td>\n",
       "      <td> 1.000076e+00</td>\n",
       "      <td> 1.000076e+00</td>\n",
       "      <td> 1.000076e+00</td>\n",
       "      <td> 1.000076e+00</td>\n",
       "    </tr>\n",
       "    <tr>\n",
       "      <th>min</th>\n",
       "      <td>-9.739098e-01</td>\n",
       "      <td>-1.005474e+00</td>\n",
       "      <td>-9.523685e-01</td>\n",
       "      <td>-8.147391e-01</td>\n",
       "      <td>-9.203023e-01</td>\n",
       "      <td>-7.587409e-01</td>\n",
       "      <td>-6.096045e-01</td>\n",
       "      <td>-6.504507e-01</td>\n",
       "      <td>-3.741566e-01</td>\n",
       "      <td>-4.992031e-01</td>\n",
       "      <td>...</td>\n",
       "      <td>-5.194846e-01</td>\n",
       "      <td>-8.205465e-01</td>\n",
       "      <td>-2.698880e-01</td>\n",
       "      <td>-5.629978e-01</td>\n",
       "      <td>-1.063600e+00</td>\n",
       "      <td>-1.267644e+00</td>\n",
       "      <td>-9.786343e-01</td>\n",
       "      <td>-8.665163e-01</td>\n",
       "      <td>-1.564594e+00</td>\n",
       "      <td>-1.174188e+00</td>\n",
       "    </tr>\n",
       "    <tr>\n",
       "      <th>25%</th>\n",
       "      <td>-8.405987e-01</td>\n",
       "      <td>-8.866629e-01</td>\n",
       "      <td>-8.437529e-01</td>\n",
       "      <td>-8.147391e-01</td>\n",
       "      <td>-8.415889e-01</td>\n",
       "      <td>-7.587409e-01</td>\n",
       "      <td>-6.096045e-01</td>\n",
       "      <td>-6.504507e-01</td>\n",
       "      <td>-3.741566e-01</td>\n",
       "      <td>-4.992031e-01</td>\n",
       "      <td>...</td>\n",
       "      <td>-5.194846e-01</td>\n",
       "      <td>-7.256254e-01</td>\n",
       "      <td>-2.698880e-01</td>\n",
       "      <td>-5.391272e-01</td>\n",
       "      <td>-3.540643e-01</td>\n",
       "      <td>-8.394938e-01</td>\n",
       "      <td>-5.135709e-01</td>\n",
       "      <td>-4.480828e-01</td>\n",
       "      <td>-5.305014e-01</td>\n",
       "      <td>-9.046054e-01</td>\n",
       "    </tr>\n",
       "    <tr>\n",
       "      <th>50%</th>\n",
       "      <td>-3.512268e-01</td>\n",
       "      <td>-2.992480e-01</td>\n",
       "      <td>-4.075738e-01</td>\n",
       "      <td>-4.582305e-01</td>\n",
       "      <td>-3.885084e-01</td>\n",
       "      <td>-4.546649e-01</td>\n",
       "      <td>-4.210885e-01</td>\n",
       "      <td>-4.676542e-01</td>\n",
       "      <td>-3.741566e-01</td>\n",
       "      <td>-4.992031e-01</td>\n",
       "      <td>...</td>\n",
       "      <td>-3.414690e-01</td>\n",
       "      <td>-3.908775e-01</td>\n",
       "      <td>-2.107932e-01</td>\n",
       "      <td>-3.689327e-01</td>\n",
       "      <td>-1.722840e-01</td>\n",
       "      <td>-2.894194e-01</td>\n",
       "      <td>-1.413955e-02</td>\n",
       "      <td>-3.636207e-01</td>\n",
       "      <td> 8.398843e-02</td>\n",
       "      <td>-3.070695e-01</td>\n",
       "    </tr>\n",
       "    <tr>\n",
       "      <th>75%</th>\n",
       "      <td> 6.321026e-01</td>\n",
       "      <td> 6.589359e-01</td>\n",
       "      <td> 6.931522e-01</td>\n",
       "      <td> 4.758775e-01</td>\n",
       "      <td> 5.876658e-01</td>\n",
       "      <td> 3.852448e-01</td>\n",
       "      <td> 1.348796e-01</td>\n",
       "      <td> 2.222116e-01</td>\n",
       "      <td>-5.924069e-02</td>\n",
       "      <td> 6.129041e-02</td>\n",
       "      <td>...</td>\n",
       "      <td> 1.089534e-02</td>\n",
       "      <td> 3.965517e-01</td>\n",
       "      <td>-9.724984e-02</td>\n",
       "      <td> 1.041436e-02</td>\n",
       "      <td>-2.071247e-02</td>\n",
       "      <td> 4.557576e-01</td>\n",
       "      <td> 2.064260e-01</td>\n",
       "      <td> 6.288908e-02</td>\n",
       "      <td> 5.551462e-01</td>\n",
       "      <td> 1.123559e+00</td>\n",
       "    </tr>\n",
       "    <tr>\n",
       "      <th>max</th>\n",
       "      <td> 4.290390e+00</td>\n",
       "      <td> 3.358327e+00</td>\n",
       "      <td> 3.331862e+00</td>\n",
       "      <td> 3.427415e+00</td>\n",
       "      <td> 4.101068e+00</td>\n",
       "      <td> 4.905278e+00</td>\n",
       "      <td> 8.939977e+00</td>\n",
       "      <td> 6.618866e+00</td>\n",
       "      <td> 2.372526e+01</td>\n",
       "      <td> 1.034100e+01</td>\n",
       "      <td>...</td>\n",
       "      <td> 9.978380e+00</td>\n",
       "      <td> 6.450622e+00</td>\n",
       "      <td> 1.471111e+01</td>\n",
       "      <td> 8.181350e+00</td>\n",
       "      <td> 1.276789e+01</td>\n",
       "      <td> 8.073291e+00</td>\n",
       "      <td> 1.485347e+01</td>\n",
       "      <td> 8.789371e+00</td>\n",
       "      <td> 2.754038e+01</td>\n",
       "      <td> 6.409590e+00</td>\n",
       "    </tr>\n",
       "  </tbody>\n",
       "</table>\n",
       "<p>8 rows × 43 columns</p>\n",
       "</div>"
      ],
      "text/plain": [
       "            bid_num       auc_num   uniq_device  uniq_country       uniq_ip  \\\n",
       "count  6.613000e+03  6.613000e+03  6.613000e+03  6.613000e+03  6.613000e+03   \n",
       "mean  -1.128187e-17  2.105949e-16  3.019243e-16  1.332335e-16 -1.826588e-17   \n",
       "std    1.000076e+00  1.000076e+00  1.000076e+00  1.000076e+00  1.000076e+00   \n",
       "min   -9.739098e-01 -1.005474e+00 -9.523685e-01 -8.147391e-01 -9.203023e-01   \n",
       "25%   -8.405987e-01 -8.866629e-01 -8.437529e-01 -8.147391e-01 -8.415889e-01   \n",
       "50%   -3.512268e-01 -2.992480e-01 -4.075738e-01 -4.582305e-01 -3.885084e-01   \n",
       "75%    6.321026e-01  6.589359e-01  6.931522e-01  4.758775e-01  5.876658e-01   \n",
       "max    4.290390e+00  3.358327e+00  3.331862e+00  3.427415e+00  4.101068e+00   \n",
       "\n",
       "           uniq_url  mean_auc_bid   std_auc_bid  mean_auc_country  \\\n",
       "count  6.613000e+03  6.613000e+03  6.613000e+03      6.613000e+03   \n",
       "mean   2.578712e-16 -1.514994e-16  4.335460e-16      1.069091e-15   \n",
       "std    1.000076e+00  1.000076e+00  1.000076e+00      1.000076e+00   \n",
       "min   -7.587409e-01 -6.096045e-01 -6.504507e-01     -3.741566e-01   \n",
       "25%   -7.587409e-01 -6.096045e-01 -6.504507e-01     -3.741566e-01   \n",
       "50%   -4.546649e-01 -4.210885e-01 -4.676542e-01     -3.741566e-01   \n",
       "75%    3.852448e-01  1.348796e-01  2.222116e-01     -5.924069e-02   \n",
       "max    4.905278e+00  8.939977e+00  6.618866e+00      2.372526e+01   \n",
       "\n",
       "       std_auc_country       ...         bids_over_device  bids_over_country  \\\n",
       "count     6.613000e+03       ...             6.613000e+03       6.613000e+03   \n",
       "mean      1.127112e-15       ...             3.972829e-16       1.668105e-16   \n",
       "std       1.000076e+00       ...             1.000076e+00       1.000076e+00   \n",
       "min      -4.992031e-01       ...            -5.194846e-01      -8.205465e-01   \n",
       "25%      -4.992031e-01       ...            -5.194846e-01      -7.256254e-01   \n",
       "50%      -4.992031e-01       ...            -3.414690e-01      -3.908775e-01   \n",
       "75%       6.129041e-02       ...             1.089534e-02       3.965517e-01   \n",
       "max       1.034100e+01       ...             9.978380e+00       6.450622e+00   \n",
       "\n",
       "       bids_over_ip  bids_over_url  auc_over_device  auc_over_country  \\\n",
       "count  6.613000e+03   6.613000e+03     6.613000e+03      6.613000e+03   \n",
       "mean  -5.802103e-17   2.216081e-16     8.756878e-16      9.149057e-16   \n",
       "std    1.000076e+00   1.000076e+00     1.000076e+00      1.000076e+00   \n",
       "min   -2.698880e-01  -5.629978e-01    -1.063600e+00     -1.267644e+00   \n",
       "25%   -2.698880e-01  -5.391272e-01    -3.540643e-01     -8.394938e-01   \n",
       "50%   -2.107932e-01  -3.689327e-01    -1.722840e-01     -2.894194e-01   \n",
       "75%   -9.724984e-02   1.041436e-02    -2.071247e-02      4.557576e-01   \n",
       "max    1.471111e+01   8.181350e+00     1.276789e+01      8.073291e+00   \n",
       "\n",
       "        auc_over_ip  auc_over_url  device_over_ip  country_over_ip  \n",
       "count  6.613000e+03  6.613000e+03    6.613000e+03     6.613000e+03  \n",
       "mean   1.046527e-15  1.402175e-16   -8.638687e-16    -8.896558e-16  \n",
       "std    1.000076e+00  1.000076e+00    1.000076e+00     1.000076e+00  \n",
       "min   -9.786343e-01 -8.665163e-01   -1.564594e+00    -1.174188e+00  \n",
       "25%   -5.135709e-01 -4.480828e-01   -5.305014e-01    -9.046054e-01  \n",
       "50%   -1.413955e-02 -3.636207e-01    8.398843e-02    -3.070695e-01  \n",
       "75%    2.064260e-01  6.288908e-02    5.551462e-01     1.123559e+00  \n",
       "max    1.485347e+01  8.789371e+00    2.754038e+01     6.409590e+00  \n",
       "\n",
       "[8 rows x 43 columns]"
      ]
     },
     "execution_count": 50,
     "metadata": {},
     "output_type": "execute_result"
    }
   ],
   "source": [
    "features_norm.describe()"
   ]
  },
  {
   "cell_type": "code",
   "execution_count": 51,
   "metadata": {
    "collapsed": false
   },
   "outputs": [],
   "source": [
    "features_norm.to_csv('features_norm_0608.csv')"
   ]
  }
 ],
 "metadata": {
  "kernelspec": {
   "display_name": "Python 2",
   "language": "python",
   "name": "python2"
  },
  "language_info": {
   "codemirror_mode": {
    "name": "ipython",
    "version": 2
   },
   "file_extension": ".py",
   "mimetype": "text/x-python",
   "name": "python",
   "nbconvert_exporter": "python",
   "pygments_lexer": "ipython2",
   "version": "2.7.9"
  }
 },
 "nbformat": 4,
 "nbformat_minor": 0
}
